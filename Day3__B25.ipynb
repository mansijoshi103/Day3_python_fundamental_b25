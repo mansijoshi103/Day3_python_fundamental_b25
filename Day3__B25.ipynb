{
 "cells": [
  {
   "cell_type": "code",
   "execution_count": 1,
   "metadata": {},
   "outputs": [],
   "source": [
    "#introduction to f string"
   ]
  },
  {
   "cell_type": "code",
   "execution_count": 3,
   "metadata": {},
   "outputs": [
    {
     "name": "stdout",
     "output_type": "stream",
     "text": [
      "anvikumar\n"
     ]
    }
   ],
   "source": [
    "firstname=\"anvi\"\n",
    "lastname=\"kumar\"\n",
    "\n",
    "full_name=f\"{firstname}{lastname}\"\n",
    "print(full_name)"
   ]
  },
  {
   "cell_type": "code",
   "execution_count": 4,
   "metadata": {},
   "outputs": [
    {
     "name": "stdout",
     "output_type": "stream",
     "text": [
      "anvi kumar\n"
     ]
    }
   ],
   "source": [
    "full_name=f\"{firstname} {lastname}\"\n",
    "\n",
    "print(full_name)"
   ]
  },
  {
   "cell_type": "code",
   "execution_count": 7,
   "metadata": {},
   "outputs": [
    {
     "name": "stdout",
     "output_type": "stream",
     "text": [
      "hello,Anvi Kumar\n"
     ]
    }
   ],
   "source": [
    "x=f\"hello,{full_name.title()}\"\n",
    "print(x)"
   ]
  },
  {
   "cell_type": "code",
   "execution_count": 8,
   "metadata": {},
   "outputs": [
    {
     "name": "stdout",
     "output_type": "stream",
     "text": [
      "fav_language:-htmlpythonjavac++\n"
     ]
    }
   ],
   "source": [
    "print('fav_language:-htmlpythonjavac++)"
   ]
  },
  {
   "cell_type": "code",
   "execution_count": 10,
   "metadata": {},
   "outputs": [
    {
     "name": "stdout",
     "output_type": "stream",
     "text": [
      "fav_language:-\n",
      "html\n",
      "python\n",
      "java\n",
      "c++\n"
     ]
    }
   ],
   "source": [
    "print('fav_language:-\\nhtml\\npython\\njava\\nc++')"
   ]
  },
  {
   "cell_type": "code",
   "execution_count": 11,
   "metadata": {},
   "outputs": [
    {
     "name": "stdout",
     "output_type": "stream",
     "text": [
      "fav_language:-\n",
      "\thtml\n",
      "\tpython\n",
      "\tjava\n",
      "\tc++\n"
     ]
    }
   ],
   "source": [
    "print('fav_language:-\\n\\thtml\\n\\tpython\\n\\tjava\\n\\tc++')"
   ]
  },
  {
   "cell_type": "code",
   "execution_count": null,
   "metadata": {},
   "outputs": [],
   "source": []
  }
 ],
 "metadata": {
  "kernelspec": {
   "display_name": "Python 3",
   "language": "python",
   "name": "python3"
  },
  "language_info": {
   "codemirror_mode": {
    "name": "ipython",
    "version": 3
   },
   "file_extension": ".py",
   "mimetype": "text/x-python",
   "name": "python",
   "nbconvert_exporter": "python",
   "pygments_lexer": "ipython3",
   "version": "3.7.6"
  }
 },
 "nbformat": 4,
 "nbformat_minor": 4
}
